{
  "nbformat": 4,
  "nbformat_minor": 0,
  "metadata": {
    "colab": {
      "provenance": []
    },
    "kernelspec": {
      "name": "python3",
      "display_name": "Python 3"
    },
    "language_info": {
      "name": "python"
    }
  },
  "cells": [
    {
      "cell_type": "markdown",
      "source": [
        "# **PYTHON OOPS QUESTIONS**"
      ],
      "metadata": {
        "id": "9Qnelm75MCtk"
      }
    },
    {
      "cell_type": "markdown",
      "source": [
        "1. **What is Object-Oriented Programming (OOP)**"
      ],
      "metadata": {
        "id": "JkfIX3YZMCp9"
      }
    },
    {
      "cell_type": "markdown",
      "source": [
        "*oop which is' object oriented programming' is based on the concept of 'object' ,it  is a style of programming function by identification of class of object closely linked with the method with which they associated*"
      ],
      "metadata": {
        "id": "gVSkO952MCoA"
      }
    },
    {
      "cell_type": "markdown",
      "source": [
        "\n",
        "\n",
        "---\n",
        "\n"
      ],
      "metadata": {
        "id": "1b98zz5mfBU1"
      }
    },
    {
      "cell_type": "markdown",
      "source": [
        "2.**What is a class in OOP**"
      ],
      "metadata": {
        "id": "1IjQmtOMMChr"
      }
    },
    {
      "cell_type": "markdown",
      "source": [
        "*for the production of objects class work as blueprint or code templet  to creat objects which can produce as many as object*"
      ],
      "metadata": {
        "id": "PTTwLzGFMCeN"
      }
    },
    {
      "cell_type": "markdown",
      "source": [
        "\n",
        "\n",
        "---\n",
        "\n"
      ],
      "metadata": {
        "id": "aUp7drQKfDg8"
      }
    },
    {
      "cell_type": "markdown",
      "source": [
        "3.**What is an object in OOP**"
      ],
      "metadata": {
        "id": "PNrUn-djMCba"
      }
    },
    {
      "cell_type": "markdown",
      "source": [
        "*An instance of a class is an object , and an object is a component  of program that knows how to perform certain actions and how to interact with other elements of program and it  have two qualities one is 'exhibit' and the another one is 'actions'*"
      ],
      "metadata": {
        "id": "cVpQzwEKMCYO"
      }
    },
    {
      "cell_type": "markdown",
      "source": [
        "\n",
        "\n",
        "---\n",
        "\n"
      ],
      "metadata": {
        "id": "v9RQM7G2fFUd"
      }
    },
    {
      "cell_type": "markdown",
      "source": [
        "4.**What is the difference between abstraction and encapsulation**"
      ],
      "metadata": {
        "id": "ZldVwlIBMCVp"
      }
    },
    {
      "cell_type": "markdown",
      "source": [
        "*   *ABSTRACTION : concept of hiding complex implementation , which means it allows to describe system by hiding unneeded details and exposing only essential aspects*\n",
        "\n",
        "\n",
        "\n",
        "*   *ENCAPSULATION : it is a concept of combining data and function into a single object*"
      ],
      "metadata": {
        "id": "197SlfEDMCTR"
      }
    },
    {
      "cell_type": "markdown",
      "source": [
        "\n",
        "\n",
        "---\n",
        "\n"
      ],
      "metadata": {
        "id": "yDwBh6u3fHnf"
      }
    },
    {
      "cell_type": "markdown",
      "source": [
        "5.**What are dunder methods in Python**"
      ],
      "metadata": {
        "id": "FPhoUvq_MCQh"
      }
    },
    {
      "cell_type": "markdown",
      "source": [
        "*dunder method are also knows as magic and special method , which are predefined methods having double underscore on both  beginning and end of any  name*"
      ],
      "metadata": {
        "id": "P2LzIs-RMCNf"
      }
    },
    {
      "cell_type": "markdown",
      "source": [
        "\n",
        "\n",
        "---\n",
        "\n"
      ],
      "metadata": {
        "id": "SVSopQ0fg96d"
      }
    },
    {
      "cell_type": "markdown",
      "source": [
        "6.**Explain the concept of inheritance in OOP**"
      ],
      "metadata": {
        "id": "Bf_mgVmiMCK0"
      }
    },
    {
      "cell_type": "markdown",
      "source": [
        "*main objective of inheritance is to reuse of code rather then starting from beginning or scratch when devoloping a new class*"
      ],
      "metadata": {
        "id": "KsRj7AmKMCIZ"
      }
    },
    {
      "cell_type": "markdown",
      "source": [
        "\n",
        "\n",
        "---\n",
        "\n"
      ],
      "metadata": {
        "id": "pgcESp25MCFj"
      }
    },
    {
      "cell_type": "markdown",
      "source": [
        "7.**What is polymorphism in OOP**"
      ],
      "metadata": {
        "id": "8HWz8g7jMCCq"
      }
    },
    {
      "cell_type": "markdown",
      "source": [
        "*polymorphism means [(poly) - 'many' & (morphism) -'forms']the capicity assume several forms , simpily said  ; the ability to carry out single activity in various ways*"
      ],
      "metadata": {
        "id": "Mfm0W8zMMCAa"
      }
    },
    {
      "cell_type": "markdown",
      "source": [
        "\n",
        "\n",
        "---\n",
        "\n"
      ],
      "metadata": {
        "id": "lh2CcaZtMB92"
      }
    },
    {
      "cell_type": "markdown",
      "source": [
        "8.**How is encapsulation achieved in Python**"
      ],
      "metadata": {
        "id": "TFdIgPJrMB7S"
      }
    },
    {
      "cell_type": "markdown",
      "source": [
        "*encapsulation can be achieved in python through access modifiers and  these modifiers ensure that access condition are not breanched and provide great user*"
      ],
      "metadata": {
        "id": "RLMHzycqMB4u"
      }
    },
    {
      "cell_type": "markdown",
      "source": [
        "\n",
        "\n",
        "---\n",
        "\n"
      ],
      "metadata": {
        "id": "ExKSx1CAMB1x"
      }
    },
    {
      "cell_type": "markdown",
      "source": [
        "9.**What is a constructor in Python**"
      ],
      "metadata": {
        "id": "k45GTbOXMBy2"
      }
    },
    {
      "cell_type": "markdown",
      "source": [
        "*constructor is a specieal method that automatically called when object of a class is created and it's main role is to initializing the object by setting up attributes*"
      ],
      "metadata": {
        "id": "v_Ux--4gMBwA"
      }
    },
    {
      "cell_type": "markdown",
      "source": [
        "\n",
        "\n",
        "---\n",
        "\n"
      ],
      "metadata": {
        "id": "02FC862PMBtf"
      }
    },
    {
      "cell_type": "markdown",
      "source": [
        "10.**What are class and static methods in Python**"
      ],
      "metadata": {
        "id": "6-XBS719MBqu"
      }
    },
    {
      "cell_type": "markdown",
      "source": [
        "*   *CLASS METHODS are methods that are bound to the class and not the instance of the class , they can modify class state that applies across all instances of the class.*\n",
        "\n",
        "\n",
        "*   *STATIC METHODS are the methods that are belong to the class and don't access or modify class or instance state.*"
      ],
      "metadata": {
        "id": "XXsM-tuTMBn3"
      }
    },
    {
      "cell_type": "markdown",
      "source": [
        "\n",
        "\n",
        "---\n",
        "\n"
      ],
      "metadata": {
        "id": "uG-Pl66-MBlh"
      }
    },
    {
      "cell_type": "markdown",
      "source": [
        "11.**What is method overloading in Python**"
      ],
      "metadata": {
        "id": "19phiPgJMBid"
      }
    },
    {
      "cell_type": "markdown",
      "source": [
        "*Method overloading is the practice of create the same method more than\n",
        "once with different parameters.*"
      ],
      "metadata": {
        "id": "M3SHW0F9MBfc"
      }
    },
    {
      "cell_type": "markdown",
      "source": [
        "\n",
        "\n",
        "---\n",
        "\n"
      ],
      "metadata": {
        "id": "4WvUalUsMBcl"
      }
    },
    {
      "cell_type": "markdown",
      "source": [
        "12.**What is method overriding in OOP**"
      ],
      "metadata": {
        "id": "mHXMw8arMBZt"
      }
    },
    {
      "cell_type": "markdown",
      "source": [
        "*method overriding is the process of providing a different\n",
        "implementation for a method that is already defined in the superclass within a subclass.*"
      ],
      "metadata": {
        "id": "lr08HoVeMBXB"
      }
    },
    {
      "cell_type": "markdown",
      "source": [
        "\n",
        "\n",
        "---\n",
        "\n"
      ],
      "metadata": {
        "id": "jg7oZUTcMBUb"
      }
    },
    {
      "cell_type": "markdown",
      "source": [
        "13.**What is a property decorator in Python**"
      ],
      "metadata": {
        "id": "ElXr3HeDMBRm"
      }
    },
    {
      "cell_type": "markdown",
      "source": [
        "*property decorator allows method to be accessed as attribute*"
      ],
      "metadata": {
        "id": "AVeifbg1MBOt"
      }
    },
    {
      "cell_type": "markdown",
      "source": [
        "\n",
        "\n",
        "---\n",
        "\n"
      ],
      "metadata": {
        "id": "YNNDX8hDMBMB"
      }
    },
    {
      "cell_type": "markdown",
      "source": [
        "14.**Why is polymorphism important in OOP?**"
      ],
      "metadata": {
        "id": "1DtCE79iMBJT"
      }
    },
    {
      "cell_type": "markdown",
      "source": [
        "*polymorphism play important role in oop by allowing for code reusability and extensibility*"
      ],
      "metadata": {
        "id": "DFqXVOG0MBGu"
      }
    },
    {
      "cell_type": "markdown",
      "source": [
        "\n",
        "\n",
        "---\n",
        "\n"
      ],
      "metadata": {
        "id": "kBdZpjW7MBEP"
      }
    },
    {
      "cell_type": "markdown",
      "source": [
        "15.**What is an abstract class in Python?**"
      ],
      "metadata": {
        "id": "ZwLc7Gq5MBBw"
      }
    },
    {
      "cell_type": "markdown",
      "source": [
        "*an abstract class is a classthat cannot make objects and contain methods that are just declared and not implemented in abstract class itself, subclass are responsible for implementing these abstract methods*"
      ],
      "metadata": {
        "id": "9NjpoXaoMA_R"
      }
    },
    {
      "cell_type": "markdown",
      "source": [
        "\n",
        "\n",
        "---\n",
        "\n"
      ],
      "metadata": {
        "id": "xFOWOVATMA8Y"
      }
    },
    {
      "cell_type": "markdown",
      "source": [
        "16.**What are the advantages of OOP?**"
      ],
      "metadata": {
        "id": "8G8uFutBMA6a"
      }
    },
    {
      "cell_type": "markdown",
      "source": [
        "*advantages of oop includes ; reusability ; easy understanding ; easily managed ;can hide data for security and can have multiple objects*"
      ],
      "metadata": {
        "id": "qrKQlYeI3VRe"
      }
    },
    {
      "cell_type": "markdown",
      "source": [
        "\n",
        "\n",
        "---\n",
        "\n"
      ],
      "metadata": {
        "id": "cNWew9dj3X5N"
      }
    },
    {
      "cell_type": "markdown",
      "source": [
        "17.**What is the difference between a class variable and an instance variable?**"
      ],
      "metadata": {
        "id": "YJsYZM_X3X1y"
      }
    },
    {
      "cell_type": "markdown",
      "source": [
        "*   *CLASS VARIABLE : created when the class is defined ; shared among all intstances of the class ; same memory space shared by all instances*\n",
        "*   *INSTANCE VARIABLE : created  when instance of class instantiated ; unique to eachinstance of class ; each instance has there own space*\n",
        "\n",
        "\n"
      ],
      "metadata": {
        "id": "XRZVUiNH3Xyd"
      }
    },
    {
      "cell_type": "markdown",
      "source": [
        "\n",
        "\n",
        "---\n",
        "\n"
      ],
      "metadata": {
        "id": "SJiyoLcj3XwG"
      }
    },
    {
      "cell_type": "markdown",
      "source": [
        "18.**What is multiple inheritance in Python?**"
      ],
      "metadata": {
        "id": "JoSllI9O3Xtg"
      }
    },
    {
      "cell_type": "markdown",
      "source": [
        "*one child class may inherit the propety of mutiple parent class or we can say an object or class inherit the property for more then one parent object or class*"
      ],
      "metadata": {
        "id": "zXJEzyg23XqL"
      }
    },
    {
      "cell_type": "markdown",
      "source": [
        "\n",
        "\n",
        "---\n",
        "\n"
      ],
      "metadata": {
        "id": "KsI8u5sG3Xma"
      }
    },
    {
      "cell_type": "markdown",
      "source": [
        "19.**Explain the purpose of ‘’__str__’ and ‘__repr__’ ‘ methods in Python?**"
      ],
      "metadata": {
        "id": "ZC-gB5ee3Xg0"
      }
    },
    {
      "cell_type": "markdown",
      "source": [
        "*   *__str__*\n",
        "     \n",
        "     *returns string representation of method*\n",
        "     *Intended to provide a user-friendly, readable representation of an object*\n",
        "\n",
        "\n",
        "\n",
        "*   *__repr__*\n",
        "\n",
        "      *it returns unambiguous string representation of the object as it is that can be used recreate the object*\n"
      ],
      "metadata": {
        "id": "YqGDjUF63XX7"
      }
    },
    {
      "cell_type": "markdown",
      "source": [
        "\n",
        "\n",
        "---\n",
        "\n"
      ],
      "metadata": {
        "id": "g4hIwgft3Vcz"
      }
    },
    {
      "cell_type": "markdown",
      "source": [
        "20.**What is the significance of the ‘super()’ function in Python?**"
      ],
      "metadata": {
        "id": "dlOMIfQo3VZB"
      }
    },
    {
      "cell_type": "markdown",
      "source": [
        "*The main reason behind the the use of 'super()' function is to eliminate the confusion between superclass and subclasses that have methods with same name.*"
      ],
      "metadata": {
        "id": "Tx9FpF5c3VWb"
      }
    },
    {
      "cell_type": "markdown",
      "source": [
        "\n",
        "\n",
        "---\n",
        "\n"
      ],
      "metadata": {
        "id": "JPWSfSrm4SPN"
      }
    },
    {
      "cell_type": "markdown",
      "source": [
        "21.**What is the significance of the __ del __ method in Python?**"
      ],
      "metadata": {
        "id": "J1O50Ta14SMM"
      }
    },
    {
      "cell_type": "markdown",
      "source": [
        "*The __del __ method in Python is a special method used for object cleanup before an object is destroyed.*"
      ],
      "metadata": {
        "id": "obj0YcOU4SBL"
      }
    },
    {
      "cell_type": "markdown",
      "source": [
        "\n",
        "\n",
        "---\n",
        "\n"
      ],
      "metadata": {
        "id": "bNrih_jn4R9v"
      }
    },
    {
      "cell_type": "markdown",
      "source": [
        "22.**What is the difference between @staticmethod and @classmethod in Python?**"
      ],
      "metadata": {
        "id": "xgwJ-jdT4R7U"
      }
    },
    {
      "cell_type": "markdown",
      "source": [
        "*   *@STATIC METHOD : it is a method that dosenot take connection to instance or class and  behave like regular function*\n",
        "\n",
        "\n",
        "*   *@CLASS METHOD : it takes  'cls'  [class] as a  first argument and can modifiy class level*\n",
        "\n"
      ],
      "metadata": {
        "id": "gpQ-rVah4RzD"
      }
    },
    {
      "cell_type": "markdown",
      "source": [
        "\n",
        "\n",
        "---\n",
        "\n"
      ],
      "metadata": {
        "id": "7sPYQWmz4Rv3"
      }
    },
    {
      "cell_type": "markdown",
      "source": [
        "23.**How does polymorphism work in Python with inheritance?**"
      ],
      "metadata": {
        "id": "dR72XNOr4RrL"
      }
    },
    {
      "cell_type": "markdown",
      "source": [
        "*Inheritance is the primary application of polymorphism ,( The traits and methods of a parent class are passed down to a child class through inheritance)A subclass( child class or derived class) is a new class that is created from an existing class.*\n",
        "*The act of overriding an inherited method in a child class is referred to as method overriding.*"
      ],
      "metadata": {
        "id": "kjOc9k6h4RnW"
      }
    },
    {
      "cell_type": "markdown",
      "source": [
        "\n",
        "\n",
        "---\n",
        "\n"
      ],
      "metadata": {
        "id": "C8BIERCq4Rkr"
      }
    },
    {
      "cell_type": "markdown",
      "source": [
        "24.**What is method chaining in Python OOP?**"
      ],
      "metadata": {
        "id": "knhAFzGE4RiJ"
      }
    },
    {
      "cell_type": "markdown",
      "source": [
        "*Method chaining in Python OOP allows  multiple methods on the same object  where each method returns the object itself, enabling compact and readable code*"
      ],
      "metadata": {
        "id": "BDBUPI7k4Q-c"
      }
    },
    {
      "cell_type": "markdown",
      "source": [
        "\n",
        "\n",
        "---\n",
        "\n"
      ],
      "metadata": {
        "id": "IGww1YcL5GQd"
      }
    },
    {
      "cell_type": "markdown",
      "source": [
        "25.**What is the purpose of the __call __ method in Python?**"
      ],
      "metadata": {
        "id": "FmEDzPmM5F_I"
      }
    },
    {
      "cell_type": "markdown",
      "source": [
        "*The __call __ method in Python allows an object like a function to making the object behave like a function when parentheses use*\n",
        "\n",
        "\n",
        "\n"
      ],
      "metadata": {
        "id": "PyvLhLvJ5Fag"
      }
    },
    {
      "cell_type": "markdown",
      "source": [
        "\n",
        "\n",
        "---\n",
        "\n"
      ],
      "metadata": {
        "id": "f06U5_OV5OjS"
      }
    },
    {
      "cell_type": "markdown",
      "source": [
        "\n",
        "\n",
        "---\n",
        "\n"
      ],
      "metadata": {
        "id": "SKhVutMB5QFz"
      }
    },
    {
      "cell_type": "markdown",
      "source": [
        "\n",
        "\n",
        "---\n",
        "\n"
      ],
      "metadata": {
        "id": "QONe_sUD5RHC"
      }
    },
    {
      "cell_type": "markdown",
      "source": [
        "# **PRACTICAL QUESTIONS**"
      ],
      "metadata": {
        "id": "EPf_lmcD5Wdi"
      }
    },
    {
      "cell_type": "markdown",
      "source": [
        "1.**Create a parent class Animal with a method speak() that prints a generic message. Create a child class Dog\n",
        "that overrides the speak() method to print \"Bark!\".**"
      ],
      "metadata": {
        "id": "DHCMVABq5qnm"
      }
    },
    {
      "cell_type": "code",
      "source": [
        "class Animal:\n",
        "  def sound(self):\n",
        "    print(\"animal  make sound\")\n",
        "class Dog(Animal):\n",
        "  def sound(self):\n",
        "    print(\"bark!\")"
      ],
      "metadata": {
        "id": "eAeCUJYp5q_5"
      },
      "execution_count": 7,
      "outputs": []
    },
    {
      "cell_type": "code",
      "source": [
        "animal = Animal()"
      ],
      "metadata": {
        "id": "kYJ1Um0OURLJ"
      },
      "execution_count": 3,
      "outputs": []
    },
    {
      "cell_type": "code",
      "source": [
        "animal.sound()"
      ],
      "metadata": {
        "colab": {
          "base_uri": "https://localhost:8080/"
        },
        "id": "-bMhDCXfUjU1",
        "outputId": "55d14aa1-b1e6-418e-bb99-357f36a238c5"
      },
      "execution_count": 4,
      "outputs": [
        {
          "output_type": "stream",
          "name": "stdout",
          "text": [
            "animal  make sound\n"
          ]
        }
      ]
    },
    {
      "cell_type": "code",
      "source": [
        "dog = Dog()\n",
        "dog.sound()"
      ],
      "metadata": {
        "colab": {
          "base_uri": "https://localhost:8080/"
        },
        "id": "oSZfSj4NUjRN",
        "outputId": "41d8fb59-c839-4079-ca20-365caba0370b"
      },
      "execution_count": 8,
      "outputs": [
        {
          "output_type": "stream",
          "name": "stdout",
          "text": [
            "bark!\n"
          ]
        }
      ]
    },
    {
      "cell_type": "markdown",
      "source": [
        "\n",
        "\n",
        "---\n",
        "\n"
      ],
      "metadata": {
        "id": "BSv-HkVRZBYy"
      }
    },
    {
      "cell_type": "markdown",
      "source": [
        "2.**Write a program to create an abstract class Shape with a method area(). Derive classes Circle and Rectangle\n",
        "from it and implement the area() method in both.**"
      ],
      "metadata": {
        "id": "XUbqoN7CVDIH"
      }
    },
    {
      "cell_type": "code",
      "source": [
        "class Shape:\n",
        "  def area(self):\n",
        "    pass\n",
        "\n",
        "    class Circle(Shape):\n",
        "     def area(self,r):\n",
        "      return 3.14*r*r\n",
        "\n",
        "  class Rectangle(Shape):\n",
        "    def area(self,l,b):\n",
        "      return l*b"
      ],
      "metadata": {
        "id": "52QTTFubWk6q"
      },
      "execution_count": 13,
      "outputs": []
    },
    {
      "cell_type": "code",
      "source": [
        "rectangle = Rectangle()\n",
        "rectangle.area(2,3)"
      ],
      "metadata": {
        "colab": {
          "base_uri": "https://localhost:8080/"
        },
        "id": "XD3ezk1ZYox5",
        "outputId": "1abca3be-14d9-44b9-fd69-147681e1a640"
      },
      "execution_count": 14,
      "outputs": [
        {
          "output_type": "execute_result",
          "data": {
            "text/plain": [
              "6"
            ]
          },
          "metadata": {},
          "execution_count": 14
        }
      ]
    },
    {
      "cell_type": "code",
      "source": [
        "circal = Circle()\n",
        "circal.area(2)"
      ],
      "metadata": {
        "colab": {
          "base_uri": "https://localhost:8080/"
        },
        "id": "yYopaGdRY3I6",
        "outputId": "bad6ad02-36a6-43b7-b449-e8b225207540"
      },
      "execution_count": 15,
      "outputs": [
        {
          "output_type": "execute_result",
          "data": {
            "text/plain": [
              "12.56"
            ]
          },
          "metadata": {},
          "execution_count": 15
        }
      ]
    },
    {
      "cell_type": "markdown",
      "source": [
        "\n",
        "\n",
        "---\n",
        "\n"
      ],
      "metadata": {
        "id": "I1G3cFsmY_Gy"
      }
    },
    {
      "cell_type": "markdown",
      "source": [
        "3.**Implement a multi-level inheritance scenario where a class Vehicle has an attribute type. Derive a class Car\n",
        "and further derive a class ElectricCar that adds a battery attribute.**"
      ],
      "metadata": {
        "id": "QLVRoRm1ZD8A"
      }
    },
    {
      "cell_type": "code",
      "source": [
        "class Vehicle:\n",
        "  def __init__(self,type):\n",
        "    self.type = type\n",
        "    def display(self):\n",
        "      print(self.type)\n",
        "\n",
        "class Car(Vehicle):\n",
        "   def __init__(self,type,name):\n",
        "      super().__init__(type)\n",
        "      self.name = name\n",
        "      def display(self):\n",
        "        print(self.name)\n",
        "\n",
        "class ElectricCar(Car):\n",
        "         def __init__(self,type,name,battery):\n",
        "              super().__init__(type,name)\n",
        "              self.battery = battery\n",
        "\n",
        "def display(self):\n",
        "                print(self.battery)"
      ],
      "metadata": {
        "id": "fegx5mJrahHx"
      },
      "execution_count": 114,
      "outputs": []
    },
    {
      "cell_type": "code",
      "source": [
        "electric_Car = ElectricCar(\"electric\",\"tesla\",10000)\n",
        ""
      ],
      "metadata": {
        "id": "2aqSLbtJI2JG"
      },
      "execution_count": 117,
      "outputs": []
    },
    {
      "cell_type": "code",
      "source": [
        "print(electric_Car.type)\n",
        "print(electric_Car.name)\n",
        "print(electric_Car.battery)"
      ],
      "metadata": {
        "colab": {
          "base_uri": "https://localhost:8080/"
        },
        "id": "vtrcPH5SI2DN",
        "outputId": "61cf7c49-4d1c-4562-e0a1-eefbcd29a7d4"
      },
      "execution_count": 119,
      "outputs": [
        {
          "output_type": "stream",
          "name": "stdout",
          "text": [
            "electric\n",
            "tesla\n",
            "10000\n"
          ]
        }
      ]
    },
    {
      "cell_type": "markdown",
      "source": [
        "\n",
        "\n",
        "---\n",
        "\n"
      ],
      "metadata": {
        "id": "w4V2aJC0p_6L"
      }
    },
    {
      "cell_type": "markdown",
      "source": [
        "4.**Implement a multi-level inheritance scenario where a class Vehicle has an attribute type. Derive a class Car\n",
        "and further derive a class ElectricCar that adds a battery attribute.**"
      ],
      "metadata": {
        "id": "3acUqaCaptlV"
      }
    },
    {
      "cell_type": "markdown",
      "source": [
        "# **same as above**"
      ],
      "metadata": {
        "id": "TO3fmMO2qTks"
      }
    },
    {
      "cell_type": "markdown",
      "source": [
        "\n",
        "\n",
        "---\n",
        "\n"
      ],
      "metadata": {
        "id": "IFNNqIGoqbJ7"
      }
    },
    {
      "cell_type": "markdown",
      "source": [
        "5.**Write a program to demonstrate encapsulation by creating a class BankAccount with private attributes\n",
        "balance and methods to deposit, withdraw, and check balance.**"
      ],
      "metadata": {
        "id": "pxiQLac8qcSw"
      }
    },
    {
      "cell_type": "code",
      "source": [
        "class Bank_Account:\n",
        "\n",
        "  def __init__(self,balance):\n",
        "    self.__balance = balance\n",
        "\n",
        "  def deposit(self,amount):\n",
        "      self.__balance += amount\n",
        "\n",
        "  def withdraw(self,amount):\n",
        "        if self.__balance >= amount:\n",
        "          self.__balance = self.__balance - amount\n",
        "          return True\n",
        "        else:\n",
        "          return False\n",
        "\n",
        "  def check_balance(self):\n",
        "            return self.__balance"
      ],
      "metadata": {
        "id": "a6zRy0gxvAIl"
      },
      "execution_count": 66,
      "outputs": []
    },
    {
      "cell_type": "code",
      "source": [
        "account1 = Bank_Account(1000)"
      ],
      "metadata": {
        "id": "kHqlM3iXw3Ts"
      },
      "execution_count": 70,
      "outputs": []
    },
    {
      "cell_type": "code",
      "source": [
        "account1.check_balance()"
      ],
      "metadata": {
        "colab": {
          "base_uri": "https://localhost:8080/"
        },
        "id": "HoUctQPgzF94",
        "outputId": "0b638ab8-a243-47e9-89b8-be0fddf6a0f9"
      },
      "execution_count": 72,
      "outputs": [
        {
          "output_type": "execute_result",
          "data": {
            "text/plain": [
              "1000"
            ]
          },
          "metadata": {},
          "execution_count": 72
        }
      ]
    },
    {
      "cell_type": "code",
      "source": [
        "account1.deposit(2000)\n",
        "account1.check_balance()\n"
      ],
      "metadata": {
        "colab": {
          "base_uri": "https://localhost:8080/"
        },
        "id": "liRcJmizxZaI",
        "outputId": "5b5e7841-09c7-442e-94fd-9b417804d53d"
      },
      "execution_count": 73,
      "outputs": [
        {
          "output_type": "execute_result",
          "data": {
            "text/plain": [
              "3000"
            ]
          },
          "metadata": {},
          "execution_count": 73
        }
      ]
    },
    {
      "cell_type": "code",
      "source": [
        "account1.withdraw(1200)"
      ],
      "metadata": {
        "colab": {
          "base_uri": "https://localhost:8080/"
        },
        "id": "N4PQyOcFzfcJ",
        "outputId": "4a12e099-254c-4b77-d655-e95b8e2f2a85"
      },
      "execution_count": 75,
      "outputs": [
        {
          "output_type": "execute_result",
          "data": {
            "text/plain": [
              "True"
            ]
          },
          "metadata": {},
          "execution_count": 75
        }
      ]
    },
    {
      "cell_type": "code",
      "source": [
        "account1.withdraw(3500)"
      ],
      "metadata": {
        "colab": {
          "base_uri": "https://localhost:8080/"
        },
        "id": "RxgE20gZzq5h",
        "outputId": "5fc5ebae-f5a0-454c-cbd0-f24789800321"
      },
      "execution_count": 76,
      "outputs": [
        {
          "output_type": "execute_result",
          "data": {
            "text/plain": [
              "False"
            ]
          },
          "metadata": {},
          "execution_count": 76
        }
      ]
    },
    {
      "cell_type": "markdown",
      "source": [
        "\n",
        "\n",
        "---\n",
        "\n"
      ],
      "metadata": {
        "id": "_8jgHDn1z_op"
      }
    },
    {
      "cell_type": "markdown",
      "source": [
        "6.**Demonstrate runtime polymorphism using a method play() in a base class Instrument. Derive classes Guitar\n",
        "and Piano that implement their own version of play().**"
      ],
      "metadata": {
        "id": "Lqf-npC30BQz"
      }
    },
    {
      "cell_type": "code",
      "source": [
        "class Instrument:\n",
        "  def play(self):\n",
        "    print(\"i am playing instrument\")\n",
        "\n",
        "class Guitar(Instrument):\n",
        "     def play(self):\n",
        "        print(\"i am playing guitar\")\n",
        "\n",
        "class Piano(Instrument):\n",
        "    def play(self):\n",
        "        print(\"i am playing piano\")"
      ],
      "metadata": {
        "id": "9tdMh3Wj0I7z"
      },
      "execution_count": 91,
      "outputs": []
    },
    {
      "cell_type": "code",
      "source": [
        "guitar = Guitar()\n",
        "piano = Piano()"
      ],
      "metadata": {
        "id": "I1HtIuzw49mB"
      },
      "execution_count": 92,
      "outputs": []
    },
    {
      "cell_type": "code",
      "source": [
        "guitar.play()"
      ],
      "metadata": {
        "colab": {
          "base_uri": "https://localhost:8080/"
        },
        "id": "byYjEWe57IXR",
        "outputId": "7da977d9-beaa-4279-b591-0905ab10440b"
      },
      "execution_count": 93,
      "outputs": [
        {
          "output_type": "stream",
          "name": "stdout",
          "text": [
            "i am playing guitar\n"
          ]
        }
      ]
    },
    {
      "cell_type": "code",
      "source": [
        "piano.play()"
      ],
      "metadata": {
        "colab": {
          "base_uri": "https://localhost:8080/"
        },
        "id": "2j9AFeGS7IJ7",
        "outputId": "6ddc5071-3bee-46de-fb36-8d8360517fa0"
      },
      "execution_count": 94,
      "outputs": [
        {
          "output_type": "stream",
          "name": "stdout",
          "text": [
            "i am playing piano\n"
          ]
        }
      ]
    },
    {
      "cell_type": "markdown",
      "source": [
        "\n",
        "\n",
        "---\n",
        "\n"
      ],
      "metadata": {
        "id": "3onE1O8j7jNN"
      }
    },
    {
      "cell_type": "markdown",
      "source": [
        "7.**Create a class MathOperations with a class method add_numbers() to add two numbers and a static\n",
        "method subtract_numbers() to subtract two numbers.**"
      ],
      "metadata": {
        "id": "n_XGwXoJ7kD2"
      }
    },
    {
      "cell_type": "code",
      "source": [
        "class  MathOperations:\n",
        "  def add_numbers(self,a,b):\n",
        "    return a+b\n",
        "\n",
        "  @staticmethod\n",
        "  def subtract_numbers(a,b):\n",
        "    return a-b"
      ],
      "metadata": {
        "id": "JqR6_LloNZQW"
      },
      "execution_count": 120,
      "outputs": []
    },
    {
      "cell_type": "code",
      "source": [
        "add_result = MathOperations()\n",
        "add_result.add_numbers(7,3)\n",
        "print(add_result.add_numbers(7,3))"
      ],
      "metadata": {
        "colab": {
          "base_uri": "https://localhost:8080/"
        },
        "id": "54XVgryYN5I5",
        "outputId": "a128a00d-08ee-4bf8-e4fc-ae3c2cc66abf"
      },
      "execution_count": 121,
      "outputs": [
        {
          "output_type": "stream",
          "name": "stdout",
          "text": [
            "10\n"
          ]
        }
      ]
    },
    {
      "cell_type": "code",
      "source": [
        "subtract_numbers = MathOperations()\n",
        "subtract_numbers.subtract_numbers(7,3)\n",
        "print(subtract_numbers.subtract_numbers(7,3))"
      ],
      "metadata": {
        "colab": {
          "base_uri": "https://localhost:8080/"
        },
        "id": "29ljBEYTOQhY",
        "outputId": "885df3d5-91d4-4434-8d5e-4ea658eec2b1"
      },
      "execution_count": 122,
      "outputs": [
        {
          "output_type": "stream",
          "name": "stdout",
          "text": [
            "4\n"
          ]
        }
      ]
    },
    {
      "cell_type": "markdown",
      "source": [
        "\n",
        "\n",
        "---\n",
        "\n"
      ],
      "metadata": {
        "id": "aRP44TOHOcz2"
      }
    },
    {
      "cell_type": "markdown",
      "source": [
        "8.**Implement a class Person with a class method to count the total number of persons created.**"
      ],
      "metadata": {
        "id": "fQGvosyeOdrK"
      }
    },
    {
      "cell_type": "code",
      "source": [
        "class Person:\n",
        "  count = 0\n",
        "  def __init__(self,name):\n",
        "    self.name = name\n",
        "    Person.count += 1\n",
        "\n",
        "  @classmethod\n",
        "  def get_count(cls):\n",
        "    return cls.count\n",
        "\n",
        ""
      ],
      "metadata": {
        "id": "TH8wnTPSOkUy"
      },
      "execution_count": 123,
      "outputs": []
    },
    {
      "cell_type": "code",
      "source": [
        "person1 = Person(\"bhumika\")\n",
        "person2 = Person(\"bhumi\")\n",
        "person3 = Person(\"bhumik a\")\n",
        "\n",
        "print(Person.get_count())"
      ],
      "metadata": {
        "colab": {
          "base_uri": "https://localhost:8080/"
        },
        "id": "SrjCOI3rPMkE",
        "outputId": "b06f67e2-7dcf-4994-a862-7697d9c6ab01"
      },
      "execution_count": 125,
      "outputs": [
        {
          "output_type": "stream",
          "name": "stdout",
          "text": [
            "6\n"
          ]
        }
      ]
    },
    {
      "cell_type": "markdown",
      "source": [
        "\n",
        "\n",
        "---\n",
        "\n"
      ],
      "metadata": {
        "id": "knxkG3xJPkzW"
      }
    },
    {
      "cell_type": "markdown",
      "source": [
        "9.**Write a class Fraction with attributes numerator and denominator. Override the str method to display the\n",
        "fraction as \"numerator/denominator\".**"
      ],
      "metadata": {
        "id": "72DAj3JRPmsl"
      }
    },
    {
      "cell_type": "code",
      "source": [
        "class fraction:\n",
        "  def __init__(self,numerator,denominator):\n",
        "    self.numerator = numerator\n",
        "    self.denominator = denominator\n",
        "\n",
        "  def __str__(self):\n",
        "    return f\"{self.numerator}/{self.denominator}\""
      ],
      "metadata": {
        "id": "9qeGAQ-WQJCZ"
      },
      "execution_count": 126,
      "outputs": []
    },
    {
      "cell_type": "code",
      "source": [
        "fraction = fraction(13,7)\n",
        "print(fraction)"
      ],
      "metadata": {
        "colab": {
          "base_uri": "https://localhost:8080/"
        },
        "id": "Cld2JrYGQNT_",
        "outputId": "d135cfa9-fff5-41a3-ffcd-658dc88f98c3"
      },
      "execution_count": 128,
      "outputs": [
        {
          "output_type": "stream",
          "name": "stdout",
          "text": [
            "13/7\n"
          ]
        }
      ]
    },
    {
      "cell_type": "markdown",
      "source": [
        "\n",
        "\n",
        "---\n",
        "\n"
      ],
      "metadata": {
        "id": "4GtL5W2TQ4wC"
      }
    },
    {
      "cell_type": "markdown",
      "source": [
        "10.**Demonstrate operator overloading by creating a class Vector and overriding the add method to add two\n",
        "vectors.**"
      ],
      "metadata": {
        "id": "mZQW2yyRQ67A"
      }
    },
    {
      "cell_type": "code",
      "source": [
        "class vector:\n",
        "  def __init__(self,x,y):\n",
        "    self.x = x\n",
        "    self.y = y\n",
        "\n",
        "  def __add__(self,other):\n",
        "    return vector(self.x + other.x,self.y + other.y)\n",
        "\n",
        "    def __str__(self):\n",
        "     return f\"({self.x},{self.y})\""
      ],
      "metadata": {
        "id": "6vkJ5oYmRE32"
      },
      "execution_count": 129,
      "outputs": []
    },
    {
      "cell_type": "code",
      "source": [
        "vector1= vector(2,3)\n",
        "vector2 = vector(4,5)"
      ],
      "metadata": {
        "id": "NHrK_aDGRYMF"
      },
      "execution_count": 140,
      "outputs": []
    },
    {
      "cell_type": "code",
      "source": [
        "result = vector1 + vector2\n",
        "\n",
        "print(result)"
      ],
      "metadata": {
        "colab": {
          "base_uri": "https://localhost:8080/"
        },
        "id": "0GLd_FQNR8XE",
        "outputId": "a4ece654-d593-43c4-f22a-20602eaea12f"
      },
      "execution_count": 142,
      "outputs": [
        {
          "output_type": "stream",
          "name": "stdout",
          "text": [
            "<__main__.vector object at 0x78eebe804a60>\n"
          ]
        }
      ]
    },
    {
      "cell_type": "markdown",
      "source": [
        "\n",
        "\n",
        "---\n",
        "\n"
      ],
      "metadata": {
        "id": "kL5yLVunS5mZ"
      }
    },
    {
      "cell_type": "markdown",
      "source": [
        "11.**Create a class Person with attributes name and age. Add a method greet() that prints \"Hello, my name is\n",
        "{name} and I am {age} years old.**"
      ],
      "metadata": {
        "id": "RFe_bE6NS7SZ"
      }
    },
    {
      "cell_type": "code",
      "source": [
        "class person:\n",
        "  def __init__(self,name,age):\n",
        "    self.name = name\n",
        "    self.age = age\n",
        "\n",
        "  def greet(self):\n",
        "    print(f\"Hello, my name is {self.name} and I am {self.age} years old.\")"
      ],
      "metadata": {
        "id": "Kd3UJIc7ZgWs"
      },
      "execution_count": 143,
      "outputs": []
    },
    {
      "cell_type": "code",
      "source": [
        "person =   person(\"bhumika\",18)"
      ],
      "metadata": {
        "id": "OWmiwMd0ZsnY"
      },
      "execution_count": 144,
      "outputs": []
    },
    {
      "cell_type": "code",
      "source": [
        "person.greet()"
      ],
      "metadata": {
        "colab": {
          "base_uri": "https://localhost:8080/"
        },
        "id": "rsCzbCVNaEgh",
        "outputId": "a31bab9d-d78d-46cf-c754-8182a4d577d9"
      },
      "execution_count": 145,
      "outputs": [
        {
          "output_type": "stream",
          "name": "stdout",
          "text": [
            "Hello, my name is bhumika and I am 18 years old.\n"
          ]
        }
      ]
    },
    {
      "cell_type": "markdown",
      "source": [
        "\n",
        "\n",
        "---\n",
        "\n"
      ],
      "metadata": {
        "id": "NWgaeE4GaK1W"
      }
    },
    {
      "cell_type": "markdown",
      "source": [
        "12.**Implement a class Student with attributes name and grades. Create a method average_grade() to compute\n",
        "the average of the grades.**"
      ],
      "metadata": {
        "id": "8qJsOgtJaMcj"
      }
    },
    {
      "cell_type": "code",
      "source": [
        "class Student:\n",
        "  def __init__(self,name,grades):\n",
        "    self.name = name\n",
        "    self.grades = grades\n",
        "\n",
        "    def average_grade(self):\n",
        "     return sum(self.grades) / len(self.grades)\n",
        "     if __name__ == \"__main__\":\n",
        "      student = Student(\"bhumika\",[90,80,70])\n",
        "      average = student.average_grade()\n",
        "      print(f\"{student1.name}'s average grade is: {average:.2f}\")"
      ],
      "metadata": {
        "id": "qe-lWjCpaUjB"
      },
      "execution_count": 163,
      "outputs": []
    },
    {
      "cell_type": "code",
      "source": [
        "print(student.name)\n",
        "print(student.grades)\n",
        "print((f\"{student1.name}'s average grade is: {average:.2f}\"))"
      ],
      "metadata": {
        "colab": {
          "base_uri": "https://localhost:8080/",
          "height": 211
        },
        "id": "L5NaVH04eOv7",
        "outputId": "76e1b935-49d9-4650-c1d7-328f476c7d05"
      },
      "execution_count": 165,
      "outputs": [
        {
          "output_type": "stream",
          "name": "stdout",
          "text": [
            "bhumika\n",
            "[90, 80, 70]\n"
          ]
        },
        {
          "output_type": "error",
          "ename": "NameError",
          "evalue": "name 'student1' is not defined",
          "traceback": [
            "\u001b[0;31m---------------------------------------------------------------------------\u001b[0m",
            "\u001b[0;31mNameError\u001b[0m                                 Traceback (most recent call last)",
            "\u001b[0;32m<ipython-input-165-d9a952c1c651>\u001b[0m in \u001b[0;36m<cell line: 3>\u001b[0;34m()\u001b[0m\n\u001b[1;32m      1\u001b[0m \u001b[0mprint\u001b[0m\u001b[0;34m(\u001b[0m\u001b[0mstudent\u001b[0m\u001b[0;34m.\u001b[0m\u001b[0mname\u001b[0m\u001b[0;34m)\u001b[0m\u001b[0;34m\u001b[0m\u001b[0;34m\u001b[0m\u001b[0m\n\u001b[1;32m      2\u001b[0m \u001b[0mprint\u001b[0m\u001b[0;34m(\u001b[0m\u001b[0mstudent\u001b[0m\u001b[0;34m.\u001b[0m\u001b[0mgrades\u001b[0m\u001b[0;34m)\u001b[0m\u001b[0;34m\u001b[0m\u001b[0;34m\u001b[0m\u001b[0m\n\u001b[0;32m----> 3\u001b[0;31m \u001b[0mprint\u001b[0m\u001b[0;34m(\u001b[0m\u001b[0;34m(\u001b[0m\u001b[0;34mf\"{student1.name}'s average grade is: {average:.2f}\"\u001b[0m\u001b[0;34m)\u001b[0m\u001b[0;34m)\u001b[0m\u001b[0;34m\u001b[0m\u001b[0;34m\u001b[0m\u001b[0m\n\u001b[0m",
            "\u001b[0;31mNameError\u001b[0m: name 'student1' is not defined"
          ]
        }
      ]
    },
    {
      "cell_type": "markdown",
      "source": [
        "\n",
        "\n",
        "---\n",
        "\n"
      ],
      "metadata": {
        "id": "j9SBlMgfe9le"
      }
    },
    {
      "cell_type": "markdown",
      "source": [
        "13.**Create a class Rectangle with methods set_dimensions() to set the dimensions and area() to calculate the\n",
        "area.**"
      ],
      "metadata": {
        "id": "i8Sacvoke-Z8"
      }
    },
    {
      "cell_type": "code",
      "source": [
        "class Rectangle:\n",
        "  def __init__(self,length,width):\n",
        "    self.length = length\n",
        "    self.width = width\n",
        "\n",
        "  def set_dimensions(self,length,width):\n",
        "    self.length = length\n",
        "    self.width = width\n",
        "\n",
        "  def area(self):\n",
        "      return self.length * self.width\n"
      ],
      "metadata": {
        "id": "qs2YCybhfFwc"
      },
      "execution_count": 169,
      "outputs": []
    },
    {
      "cell_type": "code",
      "source": [
        "rectangle = Rectangle(2,5)\n",
        "\n",
        "rectangle.set_dimensions(12,10)\n",
        "\n",
        "area = rectangle.area()\n",
        "\n",
        "print(area)"
      ],
      "metadata": {
        "colab": {
          "base_uri": "https://localhost:8080/"
        },
        "id": "s2y1J-0Wf7uF",
        "outputId": "3e885442-482c-4050-b6d4-64dc400a203d"
      },
      "execution_count": 170,
      "outputs": [
        {
          "output_type": "stream",
          "name": "stdout",
          "text": [
            "120\n"
          ]
        }
      ]
    },
    {
      "cell_type": "markdown",
      "source": [
        "\n",
        "\n",
        "---\n",
        "\n"
      ],
      "metadata": {
        "id": "xhkbCPjNg6OA"
      }
    },
    {
      "cell_type": "markdown",
      "source": [
        "14.**Create a class Employee with a method calculate_salary() that computes the salary based on hours worked\n",
        "and hourly rate. Create a derived class Manager that adds a bonus to the salary**"
      ],
      "metadata": {
        "id": "s_oObdavg7Ff"
      }
    },
    {
      "cell_type": "code",
      "source": [
        "class Employee:\n",
        "  def __init__(self,name,hours_worked,hourly_rate):\n",
        "    self.name = name\n",
        "    self.hours_worked = hours_worked\n",
        "    self.hourly_rate = hourly_rate\n",
        "\n",
        "  def calculate_salary(self):\n",
        "    return self.hours_worked * self.hourly_rate\n",
        "\n",
        "class Manager(Employee):\n",
        "  def __init__(self,name,hours_worked,hourly_rate):\n",
        "    super().__init__(name,hours_worked,hourly_rate)\n",
        "    def calculate_salary(self):\n",
        "     base_salary = super().calculate_salary()\n",
        "     bonus = base_salary * 0.1\n",
        "     return base_salary + bonus\n"
      ],
      "metadata": {
        "id": "ziLPBAAUhDsC"
      },
      "execution_count": 173,
      "outputs": []
    },
    {
      "cell_type": "code",
      "source": [
        "employee = Employee(\"bhumika\",10,20)\n",
        "manager = Manager(\"bhumi\",20,30)"
      ],
      "metadata": {
        "id": "n9BYube4hnI2"
      },
      "execution_count": 174,
      "outputs": []
    },
    {
      "cell_type": "code",
      "source": [
        "print(employee.calculate_salary())\n",
        "print(manager.calculate_salary())"
      ],
      "metadata": {
        "colab": {
          "base_uri": "https://localhost:8080/"
        },
        "id": "dnQstV7UiMA6",
        "outputId": "8054d458-0051-4288-dd12-1c5f2e957c89"
      },
      "execution_count": 175,
      "outputs": [
        {
          "output_type": "stream",
          "name": "stdout",
          "text": [
            "200\n",
            "600\n"
          ]
        }
      ]
    },
    {
      "cell_type": "markdown",
      "source": [
        "\n",
        "\n",
        "---\n",
        "\n"
      ],
      "metadata": {
        "id": "wnTgjs2kiR3c"
      }
    },
    {
      "cell_type": "markdown",
      "source": [
        "15.**Create a class Product with attributes name, price, and quantity. Implement a method total_price() that\n",
        "calculates the total price of the product.**"
      ],
      "metadata": {
        "id": "KJBEcnJXiUAu"
      }
    },
    {
      "cell_type": "code",
      "source": [
        "class Product:\n",
        "  def __init__(self,name,price,quantity):\n",
        "    self.name = name\n",
        "    self.price = price\n",
        "    self.quantity = quantity\n",
        "\n",
        "  def total_price(self):\n",
        "    return self.price * self.quantity"
      ],
      "metadata": {
        "id": "tSooTW_HirN7"
      },
      "execution_count": 182,
      "outputs": []
    },
    {
      "cell_type": "code",
      "source": [
        "my_product = Product(\"laptop\" , 50000 , 4.5)"
      ],
      "metadata": {
        "id": "2Y87s4dQi4_K"
      },
      "execution_count": 183,
      "outputs": []
    },
    {
      "cell_type": "code",
      "source": [
        "print(my_product.total_price())"
      ],
      "metadata": {
        "colab": {
          "base_uri": "https://localhost:8080/"
        },
        "id": "qtZruYqFklZd",
        "outputId": "b8258c20-ac58-4cd8-892f-446170da88db"
      },
      "execution_count": 184,
      "outputs": [
        {
          "output_type": "stream",
          "name": "stdout",
          "text": [
            "225000.0\n"
          ]
        }
      ]
    },
    {
      "cell_type": "markdown",
      "source": [
        "\n",
        "\n",
        "---\n",
        "\n"
      ],
      "metadata": {
        "id": "U2S_d243kv3o"
      }
    },
    {
      "cell_type": "markdown",
      "source": [
        "16.**Create a class Animal with an abstract method sound(). Create two derived classes Cow and Sheep that\n",
        "implement the sound() method.**"
      ],
      "metadata": {
        "id": "TtlfgCr7kwpX"
      }
    },
    {
      "cell_type": "code",
      "source": [
        "class Animal:\n",
        "  def sound(self):\n",
        "    pass\n",
        "\n",
        "class Cow(Animal):\n",
        "  def  sound(self):\n",
        "    print(\"moo\")\n",
        "\n",
        "class Sheep(Animal):\n",
        "  def sound(self):\n",
        "    print(\"baabaa\")"
      ],
      "metadata": {
        "id": "HPhj3U_plEUf"
      },
      "execution_count": 202,
      "outputs": []
    },
    {
      "cell_type": "code",
      "source": [
        "animal_cow = Cow()\n",
        "sheep = Sheep()"
      ],
      "metadata": {
        "id": "WhT_2gV1njoh"
      },
      "execution_count": 204,
      "outputs": []
    },
    {
      "cell_type": "code",
      "source": [
        "print(animal_cow.sound())\n",
        "print(sheep.sound())"
      ],
      "metadata": {
        "colab": {
          "base_uri": "https://localhost:8080/"
        },
        "id": "zp4Ttn98oih3",
        "outputId": "b5a2ebb5-6ea7-4f3e-bbf6-05bcf6649c2f"
      },
      "execution_count": 207,
      "outputs": [
        {
          "output_type": "stream",
          "name": "stdout",
          "text": [
            "moo\n",
            "None\n",
            "baabaa\n",
            "None\n"
          ]
        }
      ]
    },
    {
      "cell_type": "markdown",
      "source": [
        "\n",
        "\n",
        "---\n",
        "\n"
      ],
      "metadata": {
        "id": "xq083BmloynX"
      }
    },
    {
      "cell_type": "markdown",
      "source": [
        "17.**Create a class Book with attributes title, author, and year_published. Add a method get_book_info() that\n",
        "returns a formatted string with the book's details.**"
      ],
      "metadata": {
        "id": "j7ID9kXyoyeM"
      }
    },
    {
      "cell_type": "code",
      "source": [
        "class Book:\n",
        "  def __init__(self,title,author,year_published):\n",
        "    self.title = title\n",
        "    self.author = author\n",
        "    self.year_published = year_published\n",
        "\n",
        "  def get_book_info(self):\n",
        "    return f\"Title: {self.title}\\nAuthor: {self.author}\\nYear Published: {self.year_published}\""
      ],
      "metadata": {
        "id": "7zRTD3f0pPE3"
      },
      "execution_count": 212,
      "outputs": []
    },
    {
      "cell_type": "code",
      "source": [
        "my_Book = Book(\" Rich Dad , Poor Dad\" ,\"Robert kiyosaki\",1997)"
      ],
      "metadata": {
        "id": "Ojoi_vlVpeXA"
      },
      "execution_count": 213,
      "outputs": []
    },
    {
      "cell_type": "code",
      "source": [
        "print(my_Book.get_book_info())"
      ],
      "metadata": {
        "colab": {
          "base_uri": "https://localhost:8080/"
        },
        "id": "eekZMZn9rFDn",
        "outputId": "3eaa44d3-8e45-4595-da1c-6c6a6d761e65"
      },
      "execution_count": 214,
      "outputs": [
        {
          "output_type": "stream",
          "name": "stdout",
          "text": [
            "Title:  Rich Dad , Poor Dad\n",
            "Author: Robert kiyosaki\n",
            "Year Published: 1997\n"
          ]
        }
      ]
    },
    {
      "cell_type": "markdown",
      "source": [
        "\n",
        "\n",
        "---\n",
        "\n"
      ],
      "metadata": {
        "id": "IW5aqFOKrR2_"
      }
    },
    {
      "cell_type": "markdown",
      "source": [
        "18.**Create a class House with attributes address and price. Create a derived class Mansion that adds an\n",
        "attribute number_of_rooms.**"
      ],
      "metadata": {
        "id": "WpGaY5aXrTUD"
      }
    },
    {
      "cell_type": "code",
      "source": [
        "class House:\n",
        "  def __init__ (self,address,price):\n",
        "   self.address = address\n",
        "   self.price = price\n",
        "\n",
        "class Mansion(House):\n",
        "  def __init__(self,address,price,number_of_rooms):\n",
        "   super().__init__(address,price)\n",
        "   self.number_of_rooms = number_of_rooms\n",
        "\n",
        "  def display(self):\n",
        "      print(self.address)\n",
        "      print(self.price)\n",
        "      print(self.number_of_rooms)"
      ],
      "metadata": {
        "id": "XYxmOKCArbnN"
      },
      "execution_count": 234,
      "outputs": []
    },
    {
      "cell_type": "code",
      "source": [
        "my_house = House(\"kolkata\" , 200000)\n",
        "mension = Mansion(\"jammu\" , 450000 ,56)"
      ],
      "metadata": {
        "id": "evvwCrqotZy8"
      },
      "execution_count": 235,
      "outputs": []
    },
    {
      "cell_type": "code",
      "source": [
        "print(my_house.address)\n",
        "print(my_house.price)"
      ],
      "metadata": {
        "colab": {
          "base_uri": "https://localhost:8080/"
        },
        "id": "UGw_y2mBvut9",
        "outputId": "094f23bc-109f-40b8-bbe0-e9ca5a3d0a55"
      },
      "execution_count": 236,
      "outputs": [
        {
          "output_type": "stream",
          "name": "stdout",
          "text": [
            "kolkata\n",
            "200000\n"
          ]
        }
      ]
    },
    {
      "cell_type": "code",
      "source": [
        "print(mension.address)\n",
        "print(mension.price)\n",
        "print(mension.number_of_rooms)"
      ],
      "metadata": {
        "colab": {
          "base_uri": "https://localhost:8080/"
        },
        "id": "kPVrRJXwv436",
        "outputId": "5c59662c-1a76-489b-e4e0-c7cdba8f6c86"
      },
      "execution_count": 237,
      "outputs": [
        {
          "output_type": "stream",
          "name": "stdout",
          "text": [
            "jammu\n",
            "450000\n",
            "56\n"
          ]
        }
      ]
    }
  ]
}